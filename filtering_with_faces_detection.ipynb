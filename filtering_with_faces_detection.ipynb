{
 "cells": [
  {
   "cell_type": "code",
   "execution_count": 1,
   "metadata": {},
   "outputs": [],
   "source": [
    "import pandas as pd\n",
    "import numpy as np\n",
    "import os \n",
    "\n",
    "images = os.listdir(\"./images\")"
   ]
  },
  {
   "cell_type": "code",
   "execution_count": 2,
   "metadata": {},
   "outputs": [],
   "source": [
    "keys = pd.read_csv(\"numbers_for_image.csv\", header=None, names=['image','numbers'])\n",
    "\n",
    "keys['numbers'] = keys['numbers'].apply(lambda x: x.replace(\"[\", \"\"))\n",
    "keys['numbers'] =keys['numbers'].apply(lambda x: x.replace(\"]\",\"\"))\n",
    "keys['numbers'] =keys['numbers'].apply(lambda x: x.split(\",\"))\n",
    "\n",
    "keys['numbers'] = keys['numbers'].apply(lambda x: np.setdiff1d(x, [\"\"]))\n",
    "\n",
    "empty_photos = keys[keys['numbers'].apply(lambda x: len(x) == 0)]"
   ]
  },
  {
   "cell_type": "code",
   "execution_count": 3,
   "metadata": {},
   "outputs": [
    {
     "name": "stderr",
     "output_type": "stream",
     "text": [
      "/home/egert/anaconda3/lib/python3.6/site-packages/ipykernel_launcher.py:2: SettingWithCopyWarning: \n",
      "A value is trying to be set on a copy of a slice from a DataFrame.\n",
      "Try using .loc[row_indexer,col_indexer] = value instead\n",
      "\n",
      "See the caveats in the documentation: http://pandas.pydata.org/pandas-docs/stable/indexing.html#indexing-view-versus-copy\n",
      "  \n"
     ]
    }
   ],
   "source": [
    "one_number_pictures = keys[keys['numbers'].apply(lambda x: len(x)) == 1]\n",
    "one_number_pictures['numbers'] = one_number_pictures['numbers'].apply(lambda x: int(x[0].replace(\"'\",\"\")))"
   ]
  },
  {
   "cell_type": "code",
   "execution_count": 3,
   "metadata": {},
   "outputs": [],
   "source": [
    "useful_photos =  keys[~keys['numbers'].apply(lambda x: len(x) == 0)]"
   ]
  },
  {
   "cell_type": "code",
   "execution_count": 22,
   "metadata": {},
   "outputs": [],
   "source": [
    "from PIL import Image\n",
    "\n",
    "for i in empty_photos['image'].tail(10):\n",
    "    img = Image.open('./images/' + str(i)+'.jpg')\n",
    "    img.show()\n"
   ]
  },
  {
   "cell_type": "code",
   "execution_count": 10,
   "metadata": {},
   "outputs": [],
   "source": [
    "import cv2\n",
    "\n",
    "# Get user supplied values\n",
    "imagePath = \"~/Desktop/Number_reader_from_sportfoto/images/3864141.jpg\"\n",
    "cascPath = \"/home/egert/Desktop/Number_reader_from_sportfoto/haarcascade_frontalface_default.xml\"\n",
    "\n",
    "# Create the haar cascade\n",
    "faceCascade = cv2.CascadeClassifier(cascPath)"
   ]
  },
  {
   "cell_type": "code",
   "execution_count": 67,
   "metadata": {},
   "outputs": [],
   "source": [
    "# Read the image\n",
    "image = cv2.imread(imagePath,0)\n",
    "# gray = cv2.cvtColor(image, cv2.COLOR_BGR2GRAY)"
   ]
  },
  {
   "cell_type": "code",
   "execution_count": 74,
   "metadata": {},
   "outputs": [
    {
     "ename": "AttributeError",
     "evalue": "module 'cv2.cv2' has no attribute 'cv'",
     "output_type": "error",
     "traceback": [
      "\u001b[0;31m---------------------------------------------------------------------------\u001b[0m",
      "\u001b[0;31mAttributeError\u001b[0m                            Traceback (most recent call last)",
      "\u001b[0;32m<ipython-input-74-bffe458e74bb>\u001b[0m in \u001b[0;36m<module>\u001b[0;34m()\u001b[0m\n\u001b[1;32m      5\u001b[0m     \u001b[0mminNeighbors\u001b[0m\u001b[0;34m=\u001b[0m\u001b[0;36m5\u001b[0m\u001b[0;34m,\u001b[0m\u001b[0;34m\u001b[0m\u001b[0m\n\u001b[1;32m      6\u001b[0m     \u001b[0mminSize\u001b[0m\u001b[0;34m=\u001b[0m\u001b[0;34m(\u001b[0m\u001b[0;36m30\u001b[0m\u001b[0;34m,\u001b[0m \u001b[0;36m30\u001b[0m\u001b[0;34m)\u001b[0m\u001b[0;34m,\u001b[0m\u001b[0;34m\u001b[0m\u001b[0m\n\u001b[0;32m----> 7\u001b[0;31m     \u001b[0mflags\u001b[0m \u001b[0;34m=\u001b[0m \u001b[0mcv2\u001b[0m\u001b[0;34m.\u001b[0m\u001b[0mcv\u001b[0m\u001b[0;34m.\u001b[0m\u001b[0mCV_HAAR_SCALE_IMAGE\u001b[0m\u001b[0;34m\u001b[0m\u001b[0m\n\u001b[0m\u001b[1;32m      8\u001b[0m )\n",
      "\u001b[0;31mAttributeError\u001b[0m: module 'cv2.cv2' has no attribute 'cv'"
     ]
    }
   ],
   "source": [
    "# Detect faces in the image\n",
    "faces = faceCascade.detectMultiScale(\n",
    "    image,\n",
    "    scaleFactor=1.1,\n",
    "    minNeighbors=5,\n",
    "    minSize=(30, 30),\n",
    "    flags = cv2.cv.CV_HAAR_SCALE_IMAGE\n",
    ")"
   ]
  },
  {
   "cell_type": "code",
   "execution_count": 25,
   "metadata": {},
   "outputs": [
    {
     "name": "stdout",
     "output_type": "stream",
     "text": [
      "3928792\n"
     ]
    }
   ],
   "source": [
    "for image in useful_photos['image']:\n",
    "    print(image)\n",
    "    break"
   ]
  },
  {
   "cell_type": "code",
   "execution_count": 143,
   "metadata": {},
   "outputs": [],
   "source": [
    "import cv2\n",
    "from PIL import Image\n",
    "\n",
    "picture_info = {}\n",
    "\n",
    "for image in one_number_pictures['image']:\n",
    "\n",
    "    path =\"./images/\"+ str(image)+\".jpg\"\n",
    "    original_image = cv2.imread(path,0)\n",
    "\n",
    "    cascPath = \"haarcascade_frontalface_default.xml\"\n",
    "\n",
    "    face_cascade = cv2.CascadeClassifier(cascPath)\n",
    "    detected_faces = face_cascade.detectMultiScale(original_image)\n",
    "    \n",
    "    if(len(detected_faces) == 1):\n",
    "        picture_info[image] = detected_faces[0]\n",
    "    \n",
    "#         for (column, row, width, height) in detected_faces:\n",
    "#             cv2.rectangle(\n",
    "#                 original_image,\n",
    "#                 (column, row),\n",
    "#                 (column + width, row + height),\n",
    "#                 (0, 255, 0),\n",
    "#                 2\n",
    "#         )\n",
    "#         img = Image.fromarray(original_image)\n",
    "#         img.show()"
   ]
  },
  {
   "cell_type": "code",
   "execution_count": 8,
   "metadata": {},
   "outputs": [],
   "source": [
    "import pandas as pd\n",
    "data = pd.read_csv(\"images_data.csv\")"
   ]
  },
  {
   "cell_type": "code",
   "execution_count": 6,
   "metadata": {},
   "outputs": [
    {
     "data": {
      "text/html": [
       "<div>\n",
       "<style scoped>\n",
       "    .dataframe tbody tr th:only-of-type {\n",
       "        vertical-align: middle;\n",
       "    }\n",
       "\n",
       "    .dataframe tbody tr th {\n",
       "        vertical-align: top;\n",
       "    }\n",
       "\n",
       "    .dataframe thead th {\n",
       "        text-align: right;\n",
       "    }\n",
       "</style>\n",
       "<table border=\"1\" class=\"dataframe\">\n",
       "  <thead>\n",
       "    <tr style=\"text-align: right;\">\n",
       "      <th></th>\n",
       "      <th>image</th>\n",
       "      <th>left</th>\n",
       "      <th>top</th>\n",
       "      <th>bottom</th>\n",
       "      <th>right</th>\n",
       "      <th>numbers</th>\n",
       "    </tr>\n",
       "  </thead>\n",
       "  <tbody>\n",
       "    <tr>\n",
       "      <th>0</th>\n",
       "      <td>3863680</td>\n",
       "      <td>138</td>\n",
       "      <td>190</td>\n",
       "      <td>490</td>\n",
       "      <td>438</td>\n",
       "      <td>108</td>\n",
       "    </tr>\n",
       "    <tr>\n",
       "      <th>1</th>\n",
       "      <td>3863685</td>\n",
       "      <td>151</td>\n",
       "      <td>183</td>\n",
       "      <td>483</td>\n",
       "      <td>451</td>\n",
       "      <td>186</td>\n",
       "    </tr>\n",
       "    <tr>\n",
       "      <th>2</th>\n",
       "      <td>3863686</td>\n",
       "      <td>157</td>\n",
       "      <td>185</td>\n",
       "      <td>485</td>\n",
       "      <td>457</td>\n",
       "      <td>186</td>\n",
       "    </tr>\n",
       "    <tr>\n",
       "      <th>3</th>\n",
       "      <td>3863694</td>\n",
       "      <td>123</td>\n",
       "      <td>194</td>\n",
       "      <td>494</td>\n",
       "      <td>423</td>\n",
       "      <td>649</td>\n",
       "    </tr>\n",
       "    <tr>\n",
       "      <th>4</th>\n",
       "      <td>3863699</td>\n",
       "      <td>161</td>\n",
       "      <td>230</td>\n",
       "      <td>530</td>\n",
       "      <td>461</td>\n",
       "      <td>553</td>\n",
       "    </tr>\n",
       "  </tbody>\n",
       "</table>\n",
       "</div>"
      ],
      "text/plain": [
       "     image  left  top  bottom  right  numbers\n",
       "0  3863680   138  190     490    438      108\n",
       "1  3863685   151  183     483    451      186\n",
       "2  3863686   157  185     485    457      186\n",
       "3  3863694   123  194     494    423      649\n",
       "4  3863699   161  230     530    461      553"
      ]
     },
     "execution_count": 6,
     "metadata": {},
     "output_type": "execute_result"
    }
   ],
   "source": [
    "data.head()"
   ]
  },
  {
   "cell_type": "code",
   "execution_count": 16,
   "metadata": {},
   "outputs": [],
   "source": [
    "import cv2\n",
    "from PIL import Image\n",
    "for index, row in data.iloc[:30].iterrows():\n",
    "    path =\"./images/\"+ str(row['image'])+\".jpg\"\n",
    "    img = cv2.imread(path,0)\n",
    "\n",
    "    cv2.rectangle(\n",
    "        img,\n",
    "        (row['top'], row['left']),\n",
    "        (row['bottom'], row['right']),\n",
    "        (0, 255, 0),\n",
    "        2\n",
    "        )\n",
    "\n",
    "    \n",
    "#     cv2.rectangle(\n",
    "#         img,\n",
    "#         (row['column'], row['row']),\n",
    "#         (row['column'] + row['width'], row['row'] + row['height']),\n",
    "#         (0, 255, 0),\n",
    "#         2\n",
    "#     )\n",
    "    img = Image.fromarray(img)\n",
    "#     img.show()\n",
    "    \n",
    "    img.save(\"./Example_photos/\" + str(row['image']) + \".jpg\")\n",
    "#     img = img.crop((row['column'] -100,row['row'] + 100,row['column'] -100 + width, row['row']+100 + height))\n",
    "#     img.show()\n",
    "#     print(index, row)\n"
   ]
  },
  {
   "cell_type": "code",
   "execution_count": 144,
   "metadata": {},
   "outputs": [],
   "source": [
    "data =pd.DataFrame.from_dict(picture_info, orient='index', columns=['column', 'row', 'width', 'height'])\n",
    "\n",
    "\n",
    "data['left'] =  data[['column','row']].apply(lambda x: x['column'] - 100, axis=1)\n",
    "\n",
    "data['top'] =  data[['column','row']].apply(lambda x: x['row'] + 100, axis=1)\n",
    "\n",
    "\n",
    "data['bottom'] = data[['column','row']].apply(lambda x: x['row'] + 100 +300, axis=1)\n",
    "data['right'] = data[['column','row']].apply(lambda x: x['column'] - 100 + 300 , axis=1)\n",
    "\n",
    "\n",
    "data = data.drop(columns=['column', 'row', 'width', 'height'])\n",
    "data = data.reset_index()\n",
    "data = data.rename(columns={'index':'image'})\n",
    "data = data.set_index('image').join(one_number_pictures.set_index('image'))\n",
    "data.to_csv('images_data.csv')"
   ]
  },
  {
   "cell_type": "code",
   "execution_count": 172,
   "metadata": {},
   "outputs": [],
   "source": [
    "from shutil import copyfile\n",
    "import os\n",
    "\n",
    "src = \"./images\"\n",
    "target = './cloned_project/Multi-Digit-Recognition/toy_data/train'\n",
    "def copy_images(df, src, target):\n",
    "    for index, row in df.iterrows():\n",
    "        copyfile(os.path.join(src, str(index) + '.jpg'), os.path.join(target,str(index) + '.jpg' ))\n",
    "        \n",
    "# copy_images(data, src, target)"
   ]
  },
  {
   "cell_type": "markdown",
   "metadata": {},
   "source": [
    "## Make validation, test, train sets"
   ]
  },
  {
   "cell_type": "code",
   "execution_count": 163,
   "metadata": {},
   "outputs": [],
   "source": [
    "size = data.shape[0]\n",
    "\n",
    "train = np.random.choice(data.index, int(size*0.8), replace=False)\n",
    "\n",
    "split = np.setdiff1d(data.index, train)\n",
    "\n",
    "validation = np.random.choice(split, int(size*0.15), replace=False)\n",
    "\n",
    "test = np.setdiff1d(split, validation)"
   ]
  },
  {
   "cell_type": "code",
   "execution_count": 173,
   "metadata": {},
   "outputs": [],
   "source": [
    "folders = ['./cloned_project/Multi-Digit-Recognition/toy_data/train',\n",
    "           './cloned_project/Multi-Digit-Recognition/toy_data/test',\n",
    "          './cloned_project/Multi-Digit-Recognition/toy_data/extra']\n",
    "\n",
    "dfs = [data.loc[train], data.loc[test], data.loc[validation]]\n",
    "\n",
    "for folder_path, df in zip(folders, dfs):\n",
    "    copy_images(df, src, folder_path)"
   ]
  }
 ],
 "metadata": {
  "kernelspec": {
   "display_name": "Python 3",
   "language": "python",
   "name": "python3"
  },
  "language_info": {
   "codemirror_mode": {
    "name": "ipython",
    "version": 3
   },
   "file_extension": ".py",
   "mimetype": "text/x-python",
   "name": "python",
   "nbconvert_exporter": "python",
   "pygments_lexer": "ipython3",
   "version": "3.6.5"
  }
 },
 "nbformat": 4,
 "nbformat_minor": 2
}
